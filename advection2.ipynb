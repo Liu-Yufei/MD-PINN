{
 "cells": [
  {
   "cell_type": "markdown",
   "source": [
    "# 3D adv\n",
    "PDE方程形式：\n",
    "$$\\frac{\\partial u}{\\partial x}+\\frac{\\partial u}{\\partial y}+\\frac{\\partial u}{\\partial z}+\\frac{\\partial u}{\\partial t}=0$$\n",
    "解的形式：\n",
    "$$x+y+z-3*t$$\n",
    "边界：\n",
    "$$x\\in[0,1]$$\n",
    "$$y\\in[0,1]$$\n",
    "$$z\\in[0,1]$$\n",
    "$$t\\in[0,2]$$\n",
    "边界条件：无\n",
    "初始条件：\n",
    "$$u(x,y,z,0)=x+y+z$$"
   ],
   "metadata": {
    "collapsed": false,
    "pycharm": {
     "name": "#%% md\n"
    }
   }
  },
  {
   "cell_type": "code",
   "execution_count": 1,
   "outputs": [
    {
     "name": "stderr",
     "output_type": "stream",
     "text": [
      "Using backend: tensorflow.compat.v1\n",
      "Other supported backends: tensorflow, pytorch, jax, paddle.\n",
      "paddle supports more examples now and is recommended.\n"
     ]
    },
    {
     "name": "stdout",
     "output_type": "stream",
     "text": [
      "WARNING:tensorflow:From /root/miniconda3/lib/python3.8/site-packages/tensorflow/python/compat/v2_compat.py:107: disable_resource_variables (from tensorflow.python.ops.variable_scope) is deprecated and will be removed in a future version.\n",
      "Instructions for updating:\n",
      "non-resource variables are not supported in the long term\n",
      "Enable just-in-time compilation with XLA.\n",
      "\n",
      "WARNING:tensorflow:From /root/miniconda3/lib/python3.8/site-packages/deepxde/nn/initializers.py:118: The name tf.keras.initializers.he_normal is deprecated. Please use tf.compat.v1.keras.initializers.he_normal instead.\n",
      "\n"
     ]
    }
   ],
   "source": [
    "\"\"\"Backend supported: tensorflow.compat.v1, tensorflow, pytorch, paddle\"\"\"\n",
    "import deepxde as dde\n",
    "import numpy as np"
   ],
   "metadata": {
    "collapsed": false,
    "pycharm": {
     "name": "#%%\n"
    }
   }
  },
  {
   "cell_type": "code",
   "execution_count": 2,
   "id": "33885099-728f-4078-a8cf-cf7a87c383bd",
   "metadata": {
    "pycharm": {
     "name": "#%%\n"
    }
   },
   "outputs": [],
   "source": [
    "# Problem parameters:\n",
    "x_min, y_min, z_min, t_min = 0,0,0,0\n",
    "x_max, y_max, z_max, t_max = 1,1,1,2\n",
    "\n",
    "lr = 1e-3\n",
    "iterations = 20000\n",
    "data_path_name = \"./Advection/advection2_3d\"\n",
    "input_num = 4\n",
    "net_node = 20\n",
    "layers = 5\n",
    "\n",
    "num_domain=2540 # 用于描述域内的点的数量\n",
    "num_boundary=80 # 用于描述边界上的点的数量\n",
    "num_initial=160 # 用于描述初始条件上的点的数量 160\n",
    "num_test=2540 # 用于描述测试点的数量"
   ]
  },
  {
   "cell_type": "code",
   "execution_count": 3,
   "id": "929c5596-79d8-4c1e-bdca-1ad421ad3dca",
   "metadata": {
    "pycharm": {
     "name": "#%%\n"
    }
   },
   "outputs": [],
   "source": [
    "def gen_testdata(path_name):\n",
    "    \"\"\"Import and preprocess the dataset with the exact solution.\"\"\"\n",
    "    data = np.load(path_name+\".npz\")\n",
    "    # Obtain the values for t, x, and the excat solution:\n",
    "    t, x, y, z, exact = data[\"t\"], data[\"x1\"],data[\"x2\"], data[\"x3\"], data[\"usol\"]\n",
    "    # Process the data and flatten it out (like labels and features):\n",
    "    xx, yy, zz, tt = np.meshgrid(x, y, z, t) # meshgrid：生成网格点坐标矩阵\n",
    "    X = np.vstack((np.ravel(xx), np.ravel(yy),np.ravel(zz), np.ravel(tt))).T # ravel：将多维数组降为一维\n",
    "    y = exact.flatten()[:, None]\n",
    "    return X, y\n",
    "\n",
    "# 定义PDE\n",
    "def pde(x, y):\n",
    "    \"\"\"\n",
    "        Expresses the PDE residual of the heat equation.\n",
    "        在这里修改pde的内容, 从而获得解。让等式右侧为0\n",
    "    \"\"\"\n",
    "    dy_t = dde.grad.jacobian(y, x, i=0, j=3) # y的0列对x的第2列进行求导\n",
    "    dy_x = dde.grad.jacobian(y, x, i=0, j=0)\n",
    "    dy_y = dde.grad.jacobian(y, x, i=0, j=1)\n",
    "    dy_z = dde.grad.jacobian(y, x, i=0, j=2)\n",
    "    return dy_t + dy_x + dy_y + dy_z\n",
    "\n",
    "# Initial and boundary conditions: # 初始和边界条件\n",
    "# 定义边界条件函数\n",
    "def initial_condition(x):\n",
    "    return x[:,0:1] + x[:,1:2] + x[:,2:3]\n"
   ]
  },
  {
   "cell_type": "code",
   "execution_count": 4,
   "id": "9f0f2fc0-6555-4823-b129-0d799d40314d",
   "metadata": {
    "pycharm": {
     "name": "#%%\n"
    }
   },
   "outputs": [
    {
     "name": "stdout",
     "output_type": "stream",
     "text": [
      "Warning: 36 points required, but 64 points sampled.\n",
      "Warning: 2540 points required, but 4544 points sampled.\n"
     ]
    }
   ],
   "source": [
    "geom = dde.geometry.Cuboid([x_min, y_min, z_min], [x_max, y_max, z_max])\n",
    "## 定义时间域. 和gen_exact_solution(char)中的t_min, t_max相同，如果和时间无关，可以注释掉\n",
    "timedomain = dde.geometry.TimeDomain(t_min, t_max)\n",
    "## GeometryXTime: 用于描述空间和时间的几何形状，如果和时间无关，则使用Geometry\n",
    "geomtime = dde.geometry.GeometryXTime(geom, timedomain)\n",
    "\n",
    "\n",
    "ic = dde.icbc.IC(\n",
    "    # IC: 用于描述初始条件\n",
    "    geomtime,\n",
    "    initial_condition,  # 初始条件的值为sin(n*pi*x/L)\n",
    "    lambda _, on_initial: on_initial,  # on_initial: 初始条件的位置为初始位置\n",
    ")\n",
    "\n",
    "# 数据作为model的输入\n",
    "data = dde.data.TimePDE(\n",
    "    geomtime, # 用于描述空间和时间的几何形状\n",
    "    pde, # 用于描述PDE的函数\n",
    "    [ic], # 用于描述边界和初始条件的列表\n",
    "    num_domain=num_domain, # 用于描述域内的点的数量\n",
    "    num_boundary=num_boundary, # 用于描述边界上的点的数量\n",
    "    num_initial=num_initial, # 用于描述初始条件上的点的数量 160\n",
    "    num_test=num_test, # 用于描述测试点的数量\n",
    "    # solution = func\n",
    ")\n",
    "# 定义网络，修改第1和最后一个参数，以及选择tanh或sigmoid作为激活函数\n",
    "net = dde.nn.FNN([input_num] + [net_node] * layers + [1], \"tanh\", \"Glorot normal\")# 变量，神经元，隐藏层，输出，\n",
    "    # Glorot normal: 一种初始化方法\n",
    "model = dde.Model(data, net)\n"
   ]
  },
  {
   "cell_type": "code",
   "execution_count": 5,
   "id": "7ee92add-1fe8-4176-98d6-7708ed7bd125",
   "metadata": {
    "pycharm": {
     "name": "#%%\n"
    }
   },
   "outputs": [
    {
     "name": "stdout",
     "output_type": "stream",
     "text": [
      "Compiling model...\n",
      "Building feed-forward neural network...\n",
      "'build' took 0.104412 s\n",
      "\n"
     ]
    },
    {
     "name": "stderr",
     "output_type": "stream",
     "text": [
      "/root/miniconda3/lib/python3.8/site-packages/deepxde/nn/tensorflow_compat_v1/fnn.py:116: UserWarning: `tf.layers.dense` is deprecated and will be removed in a future version. Please use `tf.keras.layers.Dense` instead.\n",
      "  return tf.layers.dense(\n",
      "2023-08-15 19:25:39.890891: I tensorflow/core/platform/cpu_feature_guard.cc:193] This TensorFlow binary is optimized with oneAPI Deep Neural Network Library (oneDNN) to use the following CPU instructions in performance-critical operations:  AVX2 AVX512F FMA\n",
      "To enable them in other operations, rebuild TensorFlow with the appropriate compiler flags.\n",
      "2023-08-15 19:25:40.841642: W tensorflow/core/common_runtime/gpu/gpu_bfc_allocator.cc:42] Overriding orig_value setting because the TF_FORCE_GPU_ALLOW_GROWTH environment variable is set. Original config value was 0.\n",
      "2023-08-15 19:25:40.842163: I tensorflow/core/common_runtime/gpu/gpu_device.cc:1532] Created device /job:localhost/replica:0/task:0/device:GPU:0 with 30279 MB memory:  -> device: 0, name: Tesla V100-PCIE-32GB, pci bus id: 0000:67:02.0, compute capability: 7.0\n"
     ]
    },
    {
     "name": "stdout",
     "output_type": "stream",
     "text": [
      "'compile' took 1.467674 s\n",
      "\n",
      "Training model...\n",
      "\n"
     ]
    },
    {
     "name": "stderr",
     "output_type": "stream",
     "text": [
      "2023-08-15 19:25:41.263234: I tensorflow/compiler/mlir/mlir_graph_optimization_pass.cc:354] MLIR V1 optimization pass is not enabled\n",
      "2023-08-15 19:25:41.400056: I tensorflow/compiler/xla/service/service.cc:170] XLA service 0x7f94280096c0 initialized for platform CUDA (this does not guarantee that XLA will be used). Devices:\n",
      "2023-08-15 19:25:41.400125: I tensorflow/compiler/xla/service/service.cc:178]   StreamExecutor device (0): Tesla V100-PCIE-32GB, Compute Capability 7.0\n",
      "2023-08-15 19:25:41.415398: I tensorflow/compiler/mlir/tensorflow/utils/dump_mlir_util.cc:263] disabling MLIR crash reproducer, set env var `MLIR_CRASH_REPRODUCER_DIRECTORY` to enable.\n",
      "2023-08-15 19:25:42.580765: I tensorflow/compiler/jit/xla_compilation_cache.cc:478] Compiled cluster using XLA!  This line is logged at most once for the lifetime of the process.\n"
     ]
    },
    {
     "name": "stdout",
     "output_type": "stream",
     "text": [
      "Step      Train loss              Test loss               Test metric\n",
      "0         [2.60e-01, 1.40e+00]    [2.93e-01, 1.40e+00]    []  \n",
      "1000      [1.42e-04, 1.12e-03]    [8.24e-05, 1.12e-03]    []  \n",
      "2000      [2.45e-05, 6.02e-05]    [1.21e-05, 6.02e-05]    []  \n",
      "3000      [1.12e-05, 3.02e-05]    [6.25e-06, 3.02e-05]    []  \n",
      "4000      [6.65e-06, 1.78e-05]    [3.52e-06, 1.78e-05]    []  \n",
      "5000      [5.84e-06, 1.95e-05]    [3.52e-06, 1.95e-05]    []  \n",
      "6000      [4.02e-06, 1.02e-05]    [2.33e-06, 1.02e-05]    []  \n",
      "7000      [3.34e-06, 7.52e-06]    [1.99e-06, 7.52e-06]    []  \n",
      "8000      [2.78e-06, 5.41e-06]    [1.66e-06, 5.41e-06]    []  \n",
      "9000      [4.08e-06, 4.13e-06]    [2.77e-06, 4.13e-06]    []  \n",
      "10000     [7.36e-05, 1.48e-04]    [7.04e-05, 1.48e-04]    []  \n",
      "11000     [2.85e-06, 2.91e-06]    [2.39e-06, 2.91e-06]    []  \n",
      "12000     [1.26e-06, 1.64e-06]    [6.66e-07, 1.64e-06]    []  \n",
      "13000     [1.04e-06, 1.33e-06]    [5.46e-07, 1.33e-06]    []  \n",
      "14000     [1.23e-06, 4.29e-06]    [9.23e-07, 4.29e-06]    []  \n",
      "15000     [7.32e-07, 1.15e-06]    [3.63e-07, 1.15e-06]    []  \n",
      "16000     [6.32e-07, 9.80e-07]    [3.22e-07, 9.80e-07]    []  \n",
      "17000     [5.58e-07, 8.98e-07]    [2.86e-07, 8.98e-07]    []  \n",
      "18000     [5.69e-07, 9.46e-07]    [2.71e-07, 9.46e-07]    []  \n",
      "19000     [4.57e-07, 7.96e-07]    [2.28e-07, 7.96e-07]    []  \n",
      "20000     [4.20e-07, 7.26e-07]    [2.08e-07, 7.26e-07]    []  \n",
      "\n",
      "Best model at step 20000:\n",
      "  train loss: 1.15e-06\n",
      "  test loss: 9.34e-07\n",
      "  test metric: []\n",
      "\n",
      "'train' took 28.830569 s\n",
      "\n",
      "Compiling model...\n",
      "'compile' took 0.224818 s\n",
      "\n",
      "Training model...\n",
      "\n"
     ]
    },
    {
     "name": "stderr",
     "output_type": "stream",
     "text": [
      "2023-08-15 19:26:10.401015: W tensorflow/compiler/jit/mark_for_compilation_pass.cc:1750] (One-time warning): Not using XLA:CPU for cluster.\n",
      "\n",
      "If you want XLA:CPU, do one of the following:\n",
      "\n",
      " - set the TF_XLA_FLAGS to include \"--tf_xla_cpu_global_jit\", or\n",
      " - set cpu_global_jit to true on this session's OptimizerOptions, or\n",
      " - use experimental_jit_scope, or\n",
      " - use tf.function(jit_compile=True).\n",
      "\n",
      "To confirm that XLA is active, pass --vmodule=xla_compilation_cache=1 (as a\n",
      "proper command-line flag, not via TF_XLA_FLAGS).\n"
     ]
    },
    {
     "name": "stdout",
     "output_type": "stream",
     "text": [
      "Step      Train loss              Test loss               Test metric\n",
      "20000     [4.20e-07, 7.26e-07]    [2.08e-07, 7.26e-07]    []  \n",
      "INFO:tensorflow:Optimization terminated with:\n",
      "  Message: CONVERGENCE: REL_REDUCTION_OF_F_<=_FACTR*EPSMCH\n",
      "  Objective function value: 0.000001\n",
      "  Number of iterations: 4\n",
      "  Number of functions evaluations: 36\n",
      "20036     [4.20e-07, 7.26e-07]    [2.08e-07, 7.26e-07]    []  \n",
      "\n",
      "Best model at step 20036:\n",
      "  train loss: 1.15e-06\n",
      "  test loss: 9.34e-07\n",
      "  test metric: []\n",
      "\n",
      "'train' took 1.640993 s\n",
      "\n"
     ]
    }
   ],
   "source": [
    "# 训练模型：先利用Adam进行训练，然后用L-BFGS进行训练\n",
    "#快速降低损失\n",
    "model.compile(\"adam\", lr=lr) # 选择优化器和学习率\n",
    "model.train(iterations=iterations) # 训练模型，迭代次数20000止\n",
    "#精细调整\n",
    "model.compile(\"L-BFGS\") # 选择优化器\n",
    "losshistory, train_state = model.train() # 训练模型"
   ]
  },
  {
   "cell_type": "code",
   "execution_count": 6,
   "id": "036da363-78c9-415f-957a-5d3e0ad5b420",
   "metadata": {
    "pycharm": {
     "name": "#%%\n"
    }
   },
   "outputs": [
    {
     "name": "stdout",
     "output_type": "stream",
     "text": [
      "Saving loss history to /root/PINN/loss.dat ...\n",
      "Saving training data to /root/PINN/train.dat ...\n",
      "Saving test data to /root/PINN/test.dat ...\n"
     ]
    },
    {
     "data": {
      "image/png": "[encoded data removed]",
      "text/plain": [
       "<Figure size 432x288 with 1 Axes>"
      ]
     },
     "metadata": {
      "needs_background": "light"
     },
     "output_type": "display_data"
    },
    {
     "name": "stdout",
     "output_type": "stream",
     "text": [
      "Mean Squared Error: 0.6561049333144381\n",
      "Mean Squared Error Variance: 0.3910684073236751\n"
     ]
    }
   ],
   "source": [
    "# Plot/print the results\n",
    "dde.saveplot(losshistory, train_state, issave=True, isplot=True) # 保存损失函数图像\n",
    "X, y_true = gen_testdata(data_path_name) # 生成测试数据\n",
    "y_pred = model.predict(X) # 预测\n",
    "\n",
    "# 计算均方误差\n",
    "mse = dde.metrics.mean_squared_error(y_true, y_pred)\n",
    "print(\"Mean Squared Error:\", mse)\n",
    "# 计算均方误差的方差\n",
    "mse_variance = np.var(y_true - y_pred)\n",
    "print(\"Mean Squared Error Variance:\", mse_variance)"
   ]
  },
  {
   "cell_type": "code",
   "execution_count": null,
   "id": "6118ae46-f7ba-4061-afe4-56bedf2f7c14",
   "metadata": {
    "pycharm": {
     "name": "#%%\n"
    }
   },
   "outputs": [],
   "source": []
  }
 ],
 "metadata": {
  "kernelspec": {
   "display_name": "Python 3 (ipykernel)",
   "language": "python",
   "name": "python3"
  },
  "language_info": {
   "codemirror_mode": {
    "name": "ipython",
    "version": 3
   },
   "file_extension": ".py",
   "mimetype": "text/x-python",
   "name": "python",
   "nbconvert_exporter": "python",
   "pygments_lexer": "ipython3",
   "version": "3.8.10"
  }
 },
 "nbformat": 4,
 "nbformat_minor": 5
}