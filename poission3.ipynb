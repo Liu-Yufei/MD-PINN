{
 "cells": [
  {
   "cell_type": "markdown",
   "source": [
    "# 2D Poission：\n",
    "$$\\frac{\\partial^2u}{\\partial x^2}+\\frac{\\partial^2u}{\\partial y^2}+1=0$$\n",
    "解的形式：\n",
    "$$\\frac{1-x^2-y^2}{4}$$\n",
    "边界：\n",
    "$$x^2+y^2 \\le 1$$\n",
    "边界条件：\n",
    "$$u(x,y)=0$$\n",
    "初始条件：无"
   ],
   "metadata": {
    "collapsed": false,
    "pycharm": {
     "name": "#%% md\n"
    }
   }
  },
  {
   "cell_type": "code",
   "execution_count": 1,
   "id": "5db866fc-89bd-4f46-8201-f3d99f8c5322",
   "metadata": {
    "pycharm": {
     "name": "#%%\n"
    }
   },
   "outputs": [
    {
     "name": "stderr",
     "output_type": "stream",
     "text": [
      "Using backend: tensorflow.compat.v1\n",
      "Other supported backends: tensorflow, pytorch, jax, paddle.\n",
      "paddle supports more examples now and is recommended.\n"
     ]
    },
    {
     "name": "stdout",
     "output_type": "stream",
     "text": [
      "WARNING:tensorflow:From /root/miniconda3/lib/python3.8/site-packages/tensorflow/python/compat/v2_compat.py:107: disable_resource_variables (from tensorflow.python.ops.variable_scope) is deprecated and will be removed in a future version.\n",
      "Instructions for updating:\n",
      "non-resource variables are not supported in the long term\n",
      "Enable just-in-time compilation with XLA.\n",
      "\n",
      "WARNING:tensorflow:From /root/miniconda3/lib/python3.8/site-packages/deepxde/nn/initializers.py:118: The name tf.keras.initializers.he_normal is deprecated. Please use tf.compat.v1.keras.initializers.he_normal instead.\n",
      "\n"
     ]
    }
   ],
   "source": [
    "import deepxde as dde\n",
    "import numpy as np"
   ]
  },
  {
   "cell_type": "code",
   "execution_count": 2,
   "id": "9de28ef6-6151-4840-b7c4-ccb70bd7c615",
   "metadata": {
    "pycharm": {
     "name": "#%%\n"
    }
   },
   "outputs": [],
   "source": [
    "# Parameters:\n",
    "x_center, y_center = 0,0\n",
    "r = 1\n",
    "lr = 1e-4\n",
    "iterations = 20000\n",
    "data_path_name = \"./Poission/poission3_2d\"\n",
    "input_num = 2\n",
    "net_node = 50\n",
    "layers = 3\n",
    "num_domain=512 # 用于描述域内的点的数量\n",
    "num_boundary=32 # 用于描述边界上的点的数量\n",
    "num_test=256 # 用于描述测试点的数量"
   ]
  },
  {
   "cell_type": "code",
   "execution_count": 3,
   "id": "edd1a9cd-4c23-4bd0-b334-58085ba0f3c1",
   "metadata": {
    "pycharm": {
     "name": "#%%\n"
    }
   },
   "outputs": [],
   "source": [
    "## PS：如果没有测试集的话可以用gen_testdata生成，训练不需要数据集\n",
    "def gen_testdata(path_name): # 2-D\n",
    "    \"\"\"Import and preprocess the dataset with the exact solution.\"\"\"\n",
    "    data = np.load(path_name+\".npz\")\n",
    "    # Obtain the values for t, x, and the excat solution:\n",
    "    x, y, exact = data[\"x1\"],data[\"x2\"], data[\"usol\"]\n",
    "    # Process the data and flatten it out (like labels and features):\n",
    "    xx, yy = np.meshgrid(x, y) # meshgrid：生成网格点坐标矩阵\n",
    "    X = np.vstack((np.ravel(xx), np.ravel(yy))).T # ravel：将多维数组降为一维\n",
    "    y = exact.flatten()[:, None]\n",
    "    return X, y\n",
    "\n",
    "def pde(x, y):\n",
    "    \"\"\"\n",
    "        Expresses the PDE residual of the heat equation.\n",
    "        在这里修改pde的内容, 从而获得解。让等式右侧为0\n",
    "    \"\"\"\n",
    "    dy_xx = dde.grad.hessian(y, x, i=0, j=0)\n",
    "    dy_yy = dde.grad.hessian(y, x, i=1, j=1)\n",
    "    return -dy_xx -dy_yy - 1\n",
    "\n",
    "# Initial and boundary conditions:\n",
    "def boundary_condition(x):\n",
    "    return (np.abs(1 - np.linalg.norm(x, axis=1, keepdims=True) ** 2))/4 # 二维÷4，三维÷6"
   ]
  },
  {
   "cell_type": "code",
   "execution_count": 4,
   "id": "d269ce94-295f-4341-a2dc-56947047b2ef",
   "metadata": {
    "pycharm": {
     "name": "#%%\n"
    }
   },
   "outputs": [
    {
     "name": "stdout",
     "output_type": "stream",
     "text": [
      "Warning: Disk.uniform_points not implemented. Use random_points instead.\n"
     ]
    }
   ],
   "source": [
    "geom = dde.geometry.Disk([x_center, y_center], r)\n",
    "\n",
    "bc = dde.icbc.DirichletBC(geom, boundary_condition, lambda _,on_boundary:on_boundary) # 直接使用func和令边界值为0相同\n",
    "\n",
    "data = dde.data.PDE(\n",
    "    # geomtime, # 用于描述空间和时间的几何形状\n",
    "    geom, # 几何区域\n",
    "    pde, # 用于描述PDE的函数\n",
    "    [bc], # 用于描述边界和初始条件的列表\n",
    "    num_domain=num_domain, # 用于描述域内的点的数量\n",
    "    num_boundary=num_boundary, # 用于描述边界上的点的数量\n",
    "    num_test=num_test, # 用于描述测试点的数量\n",
    ")\n",
    "# 定义网络，修改第1和最后一个参数，以及选择tanh或sigmoid作为激活函数\n",
    "net = dde.nn.FNN([input_num] + [net_node] * layers + [1], \"tanh\", \"Glorot normal\")# 变量，神经元，隐藏层，输出，\n",
    "    # Glorot normal: 一种初始化方法\n",
    "model = dde.Model(data, net)"
   ]
  },
  {
   "cell_type": "code",
   "execution_count": 5,
   "id": "e7881469-4949-4503-877b-ed14637674c6",
   "metadata": {
    "pycharm": {
     "name": "#%%\n"
    }
   },
   "outputs": [
    {
     "name": "stdout",
     "output_type": "stream",
     "text": [
      "Compiling model...\n",
      "Building feed-forward neural network...\n",
      "'build' took 0.074563 s\n",
      "\n"
     ]
    },
    {
     "name": "stderr",
     "output_type": "stream",
     "text": [
      "/root/miniconda3/lib/python3.8/site-packages/deepxde/nn/tensorflow_compat_v1/fnn.py:116: UserWarning: `tf.layers.dense` is deprecated and will be removed in a future version. Please use `tf.keras.layers.Dense` instead.\n",
      "  return tf.layers.dense(\n",
      "2023-08-15 18:35:25.219429: I tensorflow/core/platform/cpu_feature_guard.cc:193] This TensorFlow binary is optimized with oneAPI Deep Neural Network Library (oneDNN) to use the following CPU instructions in performance-critical operations:  AVX2 AVX512F FMA\n",
      "To enable them in other operations, rebuild TensorFlow with the appropriate compiler flags.\n",
      "2023-08-15 18:35:26.340854: W tensorflow/core/common_runtime/gpu/gpu_bfc_allocator.cc:42] Overriding orig_value setting because the TF_FORCE_GPU_ALLOW_GROWTH environment variable is set. Original config value was 0.\n",
      "2023-08-15 18:35:26.341426: I tensorflow/core/common_runtime/gpu/gpu_device.cc:1532] Created device /job:localhost/replica:0/task:0/device:GPU:0 with 30987 MB memory:  -> device: 0, name: Tesla V100-PCIE-32GB, pci bus id: 0000:67:02.0, compute capability: 7.0\n"
     ]
    },
    {
     "name": "stdout",
     "output_type": "stream",
     "text": [
      "'compile' took 1.838068 s\n",
      "\n",
      "Training model...\n",
      "\n"
     ]
    },
    {
     "name": "stderr",
     "output_type": "stream",
     "text": [
      "2023-08-15 18:35:26.997287: I tensorflow/compiler/mlir/mlir_graph_optimization_pass.cc:354] MLIR V1 optimization pass is not enabled\n",
      "2023-08-15 18:35:27.114510: I tensorflow/compiler/xla/service/service.cc:170] XLA service 0x7fd3d0019500 initialized for platform CUDA (this does not guarantee that XLA will be used). Devices:\n",
      "2023-08-15 18:35:27.114573: I tensorflow/compiler/xla/service/service.cc:178]   StreamExecutor device (0): Tesla V100-PCIE-32GB, Compute Capability 7.0\n",
      "2023-08-15 18:35:27.127071: I tensorflow/compiler/mlir/tensorflow/utils/dump_mlir_util.cc:263] disabling MLIR crash reproducer, set env var `MLIR_CRASH_REPRODUCER_DIRECTORY` to enable.\n",
      "2023-08-15 18:35:28.530932: I tensorflow/compiler/jit/xla_compilation_cache.cc:478] Compiled cluster using XLA!  This line is logged at most once for the lifetime of the process.\n"
     ]
    },
    {
     "name": "stdout",
     "output_type": "stream",
     "text": [
      "Step      Train loss              Test loss               Test metric\n",
      "0         [1.01e+00, 4.89e-02]    [9.99e-01, 4.89e-02]    []  \n",
      "1000      [1.85e-02, 1.15e-04]    [1.70e-02, 1.15e-04]    []  \n",
      "2000      [1.24e-03, 5.02e-05]    [1.10e-03, 5.02e-05]    []  \n",
      "3000      [2.80e-04, 7.45e-06]    [2.29e-04, 7.45e-06]    []  \n",
      "4000      [1.75e-04, 4.49e-06]    [1.40e-04, 4.49e-06]    []  \n",
      "5000      [1.06e-04, 2.08e-06]    [8.29e-05, 2.08e-06]    []  \n",
      "6000      [5.94e-05, 5.36e-07]    [4.49e-05, 5.36e-07]    []  \n",
      "7000      [2.98e-05, 2.93e-07]    [2.22e-05, 2.93e-07]    []  \n",
      "8000      [1.38e-05, 2.28e-07]    [1.07e-05, 2.28e-07]    []  \n",
      "9000      [5.63e-06, 2.37e-07]    [4.72e-06, 2.37e-07]    []  \n",
      "10000     [2.26e-06, 2.04e-07]    [1.97e-06, 2.04e-07]    []  \n",
      "11000     [1.52e-06, 7.72e-06]    [1.33e-06, 7.72e-06]    []  \n",
      "12000     [1.18e-06, 1.20e-07]    [1.03e-06, 1.20e-07]    []  \n",
      "13000     [1.06e-06, 4.44e-06]    [9.25e-07, 4.44e-06]    []  \n",
      "14000     [9.07e-07, 1.91e-06]    [7.69e-07, 1.91e-06]    []  \n",
      "15000     [8.12e-07, 2.75e-08]    [6.93e-07, 2.75e-08]    []  \n",
      "16000     [7.61e-07, 4.70e-07]    [6.49e-07, 4.70e-07]    []  \n",
      "17000     [6.97e-07, 2.87e-08]    [5.94e-07, 2.87e-08]    []  \n",
      "18000     [6.54e-07, 2.97e-08]    [5.58e-07, 2.97e-08]    []  \n",
      "19000     [6.39e-07, 3.76e-07]    [5.55e-07, 3.76e-07]    []  \n",
      "20000     [6.00e-07, 2.53e-06]    [5.25e-07, 2.53e-06]    []  \n",
      "\n",
      "Best model at step 18000:\n",
      "  train loss: 6.84e-07\n",
      "  test loss: 5.88e-07\n",
      "  test metric: []\n",
      "\n",
      "'train' took 30.588134 s\n",
      "\n",
      "Compiling model...\n",
      "'compile' took 0.389469 s\n",
      "\n",
      "Training model...\n",
      "\n"
     ]
    },
    {
     "name": "stderr",
     "output_type": "stream",
     "text": [
      "2023-08-15 18:35:58.108404: W tensorflow/compiler/jit/mark_for_compilation_pass.cc:1750] (One-time warning): Not using XLA:CPU for cluster.\n",
      "\n",
      "If you want XLA:CPU, do one of the following:\n",
      "\n",
      " - set the TF_XLA_FLAGS to include \"--tf_xla_cpu_global_jit\", or\n",
      " - set cpu_global_jit to true on this session's OptimizerOptions, or\n",
      " - use experimental_jit_scope, or\n",
      " - use tf.function(jit_compile=True).\n",
      "\n",
      "To confirm that XLA is active, pass --vmodule=xla_compilation_cache=1 (as a\n",
      "proper command-line flag, not via TF_XLA_FLAGS).\n"
     ]
    },
    {
     "name": "stdout",
     "output_type": "stream",
     "text": [
      "Step      Train loss              Test loss               Test metric\n",
      "20000     [6.00e-07, 2.53e-06]    [5.25e-07, 2.53e-06]    []  \n",
      "INFO:tensorflow:Optimization terminated with:\n",
      "  Message: CONVERGENCE: REL_REDUCTION_OF_F_<=_FACTR*EPSMCH\n",
      "  Objective function value: 0.000001\n",
      "  Number of iterations: 11\n",
      "  Number of functions evaluations: 35\n",
      "20035     [5.84e-07, 2.80e-08]    [5.03e-07, 2.80e-08]    []  \n",
      "\n",
      "Best model at step 20035:\n",
      "  train loss: 6.12e-07\n",
      "  test loss: 5.31e-07\n",
      "  test metric: []\n",
      "\n",
      "'train' took 2.465413 s\n",
      "\n"
     ]
    }
   ],
   "source": [
    "# 训练模型：先利用Adam进行训练，然后用L-BFGS进行训练\n",
    "## 快速降低损失\n",
    "model.compile(\"adam\", lr=lr) # 选择优化器和学习率\n",
    "model.train(iterations=iterations) # 训练模型，迭代次数\n",
    "## 精细调整\n",
    "model.compile(\"L-BFGS\") # 选择优化器\n",
    "losshistory, train_state = model.train() # 训练模型"
   ]
  },
  {
   "cell_type": "code",
   "execution_count": 6,
   "id": "a3c7eba5-5260-4d9e-b62d-4415cc8ca50c",
   "metadata": {
    "pycharm": {
     "name": "#%%\n"
    }
   },
   "outputs": [
    {
     "name": "stdout",
     "output_type": "stream",
     "text": [
      "Saving loss history to /root/PINN/loss.dat ...\n",
      "Saving training data to /root/PINN/train.dat ...\n",
      "Saving test data to /root/PINN/test.dat ...\n"
     ]
    },
    {
     "data": {
      "image/png": "[encoded data removed]",
      "text/plain": [
       "<Figure size 432x288 with 1 Axes>"
      ]
     },
     "metadata": {
      "needs_background": "light"
     },
     "output_type": "display_data"
    },
    {
     "data": {
      "image/png": "[encoded data removed]",
      "text/plain": [
       "<Figure size 432x288 with 1 Axes>"
      ]
     },
     "metadata": {
      "needs_background": "light"
     },
     "output_type": "display_data"
    },
    {
     "name": "stdout",
     "output_type": "stream",
     "text": [
      "Mean Squared Error: 6.372733393859933e-08\n",
      "Mean Squared Error Variance: [6.15209779e-14]\n"
     ]
    }
   ],
   "source": [
    "dde.saveplot(losshistory, train_state, issave=True, isplot=True) # 保存损失函数图像\n",
    "X, y_true = gen_testdata(data_path_name) # 生成测试数据\n",
    "y_pred = model.predict(X) # 预测\n",
    "\n",
    "# 计算均方误差\n",
    "mse = dde.metrics.mean_squared_error(y_true, y_pred)\n",
    "print(\"Mean Squared Error:\", mse)\n",
    "# 计算均方误差的方差\n",
    "individual_mses = [(true_val - pred_val) ** 2 for true_val, pred_val in zip(y_true, y_pred)]\n",
    "mse_variance = sum([(mse - individual_mse) ** 2 for individual_mse in individual_mses]) / len(individual_mses)\n",
    "print(\"Mean Squared Error Variance:\", mse_variance)"
   ]
  },
  {
   "cell_type": "code",
   "execution_count": null,
   "id": "0864cd60-f1bd-42e8-8adc-456363200918",
   "metadata": {
    "pycharm": {
     "name": "#%%\n"
    }
   },
   "outputs": [],
   "source": []
  }
 ],
 "metadata": {
  "kernelspec": {
   "display_name": "Python 3 (ipykernel)",
   "language": "python",
   "name": "python3"
  },
  "language_info": {
   "codemirror_mode": {
    "name": "ipython",
    "version": 3
   },
   "file_extension": ".py",
   "mimetype": "text/x-python",
   "name": "python",
   "nbconvert_exporter": "python",
   "pygments_lexer": "ipython3",
   "version": "3.8.10"
  }
 },
 "nbformat": 4,
 "nbformat_minor": 5
}