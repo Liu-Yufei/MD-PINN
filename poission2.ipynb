{
 "cells": [
  {
   "cell_type": "markdown",
   "id": "08ad9408-735d-4c56-b304-857402b3f5b4",
   "metadata": {
    "pycharm": {
     "name": "#%% md\n"
    }
   },
   "source": [
    "# 3D Poission sin：\n",
    "$$\\frac{\\partial^2u}{\\partial x^2}+\\frac{\\partial^2u}{\\partial y^2}+\\frac{\\partial^2u}{\\partial z^2}+2\\pi^2sin(\\pi x)sin(\\pi y)sin(\\pi z)=0$$\n",
    "解的形式：\n",
    "$$sin(\\pi x)sin(\\pi y)sin(\\pi z)$$\n",
    "边界：\n",
    "$$x\\in[0,1]$$\n",
    "$$y\\in[0,1]$$\n",
    "$$z\\in[0,1]$$\n",
    "边界条件：\n",
    "$$u(x,y,z)=0$$\n",
    "初始条件：无"
   ]
  },
  {
   "cell_type": "code",
   "execution_count": 1,
   "id": "3a9523ec-95b6-44c0-a84d-68b3cf147362",
   "metadata": {
    "pycharm": {
     "name": "#%%\n"
    }
   },
   "outputs": [
    {
     "name": "stderr",
     "output_type": "stream",
     "text": [
      "Using backend: tensorflow.compat.v1\n",
      "Other supported backends: tensorflow, pytorch, jax, paddle.\n",
      "paddle supports more examples now and is recommended.\n"
     ]
    },
    {
     "name": "stdout",
     "output_type": "stream",
     "text": [
      "WARNING:tensorflow:From /root/miniconda3/lib/python3.8/site-packages/tensorflow/python/compat/v2_compat.py:107: disable_resource_variables (from tensorflow.python.ops.variable_scope) is deprecated and will be removed in a future version.\n",
      "Instructions for updating:\n",
      "non-resource variables are not supported in the long term\n",
      "Enable just-in-time compilation with XLA.\n",
      "\n",
      "WARNING:tensorflow:From /root/miniconda3/lib/python3.8/site-packages/deepxde/nn/initializers.py:118: The name tf.keras.initializers.he_normal is deprecated. Please use tf.compat.v1.keras.initializers.he_normal instead.\n",
      "\n"
     ]
    }
   ],
   "source": [
    "\"\"\"Backend supported: tensorflow.compat.v1, tensorflow, pytorch, paddle\"\"\"\n",
    "import deepxde as dde\n",
    "import numpy as np\n",
    "import tensorflow as tf\n"
   ]
  },
  {
   "cell_type": "code",
   "execution_count": 2,
   "id": "33885099-728f-4078-a8cf-cf7a87c383bd",
   "metadata": {
    "pycharm": {
     "name": "#%%\n"
    }
   },
   "outputs": [],
   "source": [
    "# Problem parameters:\n",
    "x_min, y_min, z_min = 0,0,0\n",
    "x_max, y_max, z_max = 1,1,1\n",
    "\n",
    "lr = 1e-3\n",
    "iterations = 20000\n",
    "data_path_name = \"./Poission/poission2_3d\"\n",
    "input_num = 3\n",
    "net_node = 50\n",
    "layers = 3\n",
    "\n",
    "num_domain=256 # 用于描述域内的点的数量\n",
    "num_boundary=32 # 用于描述边界上的点的数量\n",
    "num_test=256 # 用于描述测试点的数量"
   ]
  },
  {
   "cell_type": "code",
   "execution_count": 3,
   "id": "929c5596-79d8-4c1e-bdca-1ad421ad3dca",
   "metadata": {
    "pycharm": {
     "name": "#%%\n"
    }
   },
   "outputs": [],
   "source": [
    "def gen_testdata(path_name):\n",
    "    \"\"\"Import and preprocess the dataset with the exact solution.\"\"\"\n",
    "    data = np.load(path_name+\".npz\")\n",
    "    # Obtain the values for t, x, and the excat solution:\n",
    "    x, y, z, exact = data[\"x1\"],data[\"x2\"], data[\"x3\"], data[\"usol\"]\n",
    "    # Process the data and flatten it out (like labels and features):\n",
    "    xx, yy, zz= np.meshgrid(x, y, z) # meshgrid：生成网格点坐标矩阵\n",
    "    X = np.vstack((np.ravel(xx), np.ravel(yy),np.ravel(zz))).T # ravel：将多维数组降为一维\n",
    "    y = exact.flatten()[:, None]\n",
    "    return X, y\n",
    "\n",
    "# 定义PDE\n",
    "def pde(x, y):\n",
    "    \"\"\"\n",
    "        Expresses the PDE residual of the heat equation.\n",
    "    \"\"\"\n",
    "    dy_xx = dde.grad.hessian(y, x, i=0, j=0)\n",
    "    dy_yy = dde.grad.hessian(y, x, i=1, j=1)\n",
    "    dy_zz = dde.grad.hessian(y, x, i=2, j=2)\n",
    "    return  -dy_xx -dy_yy -dy_zz- np.pi ** 3 * tf.sin(np.pi * x[:,0:1]) * tf.sin(np.pi * x[:,1:2]) * tf.sin(np.pi * x[:,2:3])\n",
    "\n",
    "def func(x):\n",
    "    return np.sin(np.pi * x[:,0:1])*np.sin(np.pi * x[:,1:2])*np.sin(np.pi * x[:,2:3])"
   ]
  },
  {
   "cell_type": "code",
   "execution_count": null,
   "outputs": [],
   "source": [
    "geom = dde.geometry.Cuboid([x_min, y_min, z_min], [x_max, y_max, z_max])\n",
    "bc = dde.icbc.DirichletBC(geom, func, lambda _,on_boundary:on_boundary) # 直接使用func和令边界值为0相同\n",
    "\n",
    "# 数据作为model的输入\n",
    "data = dde.data.PDE(\n",
    "    geom, # 用于描述空间和时间的几何形状\n",
    "    pde, # 用于描述PDE的函数\n",
    "    [bc], # 用于描述边界和初始条件的列表\n",
    "    num_domain=num_domain, # 用于描述域内的点的数量\n",
    "    num_boundary=num_boundary, # 用于描述边界上的点的数量\n",
    "    num_test=num_test, # 用于描述测试点的数量\n",
    ")\n",
    "# 定义网络，修改第1和最后一个参数，以及选择tanh或sigmoid作为激活函数\n",
    "net = dde.nn.FNN([input_num] + [net_node] * layers + [1], \"tanh\", \"Glorot normal\")# 变量，神经元，隐藏层，输出，\n",
    "    # Glorot normal: 一种初始化方法\n",
    "model = dde.Model(data, net)\n"
   ],
   "metadata": {
    "collapsed": false,
    "pycharm": {
     "name": "#%%\n"
    }
   }
  },
  {
   "cell_type": "code",
   "execution_count": 5,
   "id": "7ee92add-1fe8-4176-98d6-7708ed7bd125",
   "metadata": {
    "pycharm": {
     "name": "#%%\n"
    }
   },
   "outputs": [
    {
     "name": "stdout",
     "output_type": "stream",
     "text": [
      "Compiling model...\n",
      "Building feed-forward neural network...\n",
      "'build' took 0.068628 s\n",
      "\n"
     ]
    },
    {
     "name": "stderr",
     "output_type": "stream",
     "text": [
      "/root/miniconda3/lib/python3.8/site-packages/deepxde/nn/tensorflow_compat_v1/fnn.py:116: UserWarning: `tf.layers.dense` is deprecated and will be removed in a future version. Please use `tf.keras.layers.Dense` instead.\n",
      "  return tf.layers.dense(\n",
      "2023-08-15 20:29:51.404454: I tensorflow/core/platform/cpu_feature_guard.cc:193] This TensorFlow binary is optimized with oneAPI Deep Neural Network Library (oneDNN) to use the following CPU instructions in performance-critical operations:  AVX2 AVX512F FMA\n",
      "To enable them in other operations, rebuild TensorFlow with the appropriate compiler flags.\n",
      "2023-08-15 20:29:52.347145: W tensorflow/core/common_runtime/gpu/gpu_bfc_allocator.cc:42] Overriding orig_value setting because the TF_FORCE_GPU_ALLOW_GROWTH environment variable is set. Original config value was 0.\n",
      "2023-08-15 20:29:52.347684: I tensorflow/core/common_runtime/gpu/gpu_device.cc:1532] Created device /job:localhost/replica:0/task:0/device:GPU:0 with 30279 MB memory:  -> device: 0, name: Tesla V100-PCIE-32GB, pci bus id: 0000:67:02.0, compute capability: 7.0\n"
     ]
    },
    {
     "name": "stdout",
     "output_type": "stream",
     "text": [
      "'compile' took 1.804852 s\n",
      "\n",
      "Training model...\n",
      "\n"
     ]
    },
    {
     "name": "stderr",
     "output_type": "stream",
     "text": [
      "2023-08-15 20:29:53.156385: I tensorflow/compiler/mlir/mlir_graph_optimization_pass.cc:354] MLIR V1 optimization pass is not enabled\n",
      "2023-08-15 20:29:53.298395: I tensorflow/compiler/xla/service/service.cc:170] XLA service 0x7f21e00090a0 initialized for platform CUDA (this does not guarantee that XLA will be used). Devices:\n",
      "2023-08-15 20:29:53.298538: I tensorflow/compiler/xla/service/service.cc:178]   StreamExecutor device (0): Tesla V100-PCIE-32GB, Compute Capability 7.0\n",
      "2023-08-15 20:29:53.311538: I tensorflow/compiler/mlir/tensorflow/utils/dump_mlir_util.cc:263] disabling MLIR crash reproducer, set env var `MLIR_CRASH_REPRODUCER_DIRECTORY` to enable.\n",
      "2023-08-15 20:29:55.118167: I tensorflow/compiler/jit/xla_compilation_cache.cc:478] Compiled cluster using XLA!  This line is logged at most once for the lifetime of the process.\n"
     ]
    },
    {
     "name": "stdout",
     "output_type": "stream",
     "text": [
      "Step      Train loss              Test loss               Test metric\n",
      "0         [1.09e+02, 1.74e-02]    [1.81e+02, 1.74e-02]    []  \n",
      "1000      [3.67e-02, 1.47e-02]    [4.69e-02, 1.47e-02]    []  \n",
      "2000      [6.39e-03, 1.19e-03]    [1.25e-02, 1.19e-03]    []  \n",
      "3000      [2.74e-03, 4.94e-04]    [5.39e-03, 4.94e-04]    []  \n",
      "4000      [1.65e-03, 3.48e-04]    [3.77e-03, 3.48e-04]    []  \n",
      "5000      [1.46e-02, 3.22e-04]    [1.91e-02, 3.22e-04]    []  \n",
      "6000      [1.09e-03, 2.37e-04]    [2.89e-03, 2.37e-04]    []  \n",
      "7000      [1.07e-03, 2.09e-04]    [2.69e-03, 2.09e-04]    []  \n",
      "8000      [2.05e-03, 1.86e-04]    [3.95e-03, 1.86e-04]    []  \n",
      "9000      [6.98e-04, 1.65e-04]    [2.24e-03, 1.65e-04]    []  \n",
      "10000     [6.54e-03, 1.92e-04]    [8.97e-03, 1.92e-04]    []  \n",
      "11000     [4.42e-04, 1.38e-04]    [1.84e-03, 1.38e-04]    []  \n",
      "12000     [6.41e-04, 1.28e-04]    [1.86e-03, 1.28e-04]    []  \n",
      "13000     [2.16e-03, 1.36e-04]    [3.56e-03, 1.36e-04]    []  \n",
      "14000     [3.53e-04, 1.12e-04]    [1.63e-03, 1.12e-04]    []  \n",
      "15000     [3.34e-04, 1.05e-04]    [1.56e-03, 1.05e-04]    []  \n",
      "16000     [3.20e-04, 9.97e-05]    [1.54e-03, 9.97e-05]    []  \n",
      "17000     [3.23e-04, 9.50e-05]    [1.53e-03, 9.50e-05]    []  \n",
      "18000     [1.79e-03, 9.39e-05]    [3.09e-03, 9.39e-05]    []  \n",
      "19000     [3.22e-04, 8.64e-05]    [1.43e-03, 8.64e-05]    []  \n",
      "20000     [1.50e-03, 8.74e-05]    [2.67e-03, 8.74e-05]    []  \n",
      "\n",
      "Best model at step 19000:\n",
      "  train loss: 4.09e-04\n",
      "  test loss: 1.52e-03\n",
      "  test metric: []\n",
      "\n",
      "'train' took 31.100365 s\n",
      "\n",
      "Compiling model...\n",
      "'compile' took 0.532800 s\n",
      "\n",
      "Training model...\n",
      "\n"
     ]
    },
    {
     "name": "stderr",
     "output_type": "stream",
     "text": [
      "2023-08-15 20:30:24.900265: W tensorflow/compiler/jit/mark_for_compilation_pass.cc:1750] (One-time warning): Not using XLA:CPU for cluster.\n",
      "\n",
      "If you want XLA:CPU, do one of the following:\n",
      "\n",
      " - set the TF_XLA_FLAGS to include \"--tf_xla_cpu_global_jit\", or\n",
      " - set cpu_global_jit to true on this session's OptimizerOptions, or\n",
      " - use experimental_jit_scope, or\n",
      " - use tf.function(jit_compile=True).\n",
      "\n",
      "To confirm that XLA is active, pass --vmodule=xla_compilation_cache=1 (as a\n",
      "proper command-line flag, not via TF_XLA_FLAGS).\n"
     ]
    },
    {
     "name": "stdout",
     "output_type": "stream",
     "text": [
      "Step      Train loss              Test loss               Test metric\n",
      "20000     [1.50e-03, 8.74e-05]    [2.67e-03, 8.74e-05]    []  \n",
      "21000     [3.88e-05, 1.55e-05]    [3.88e-05, 1.55e-05]        \n",
      "22000     [1.59e-05, 8.28e-06]    [1.59e-05, 8.28e-06]        \n",
      "INFO:tensorflow:Optimization terminated with:\n",
      "  Message: CONVERGENCE: REL_REDUCTION_OF_F_<=_FACTR*EPSMCH\n",
      "  Objective function value: 0.000019\n",
      "  Number of iterations: 2325\n",
      "  Number of functions evaluations: 2435\n",
      "22435     [1.32e-05, 6.21e-06]    [2.60e-04, 6.21e-06]    []  \n",
      "\n",
      "Best model at step 22435:\n",
      "  train loss: 1.94e-05\n",
      "  test loss: 2.67e-04\n",
      "  test metric: []\n",
      "\n",
      "'train' took 25.034400 s\n",
      "\n"
     ]
    }
   ],
   "source": [
    "# 训练模型：先利用Adam进行训练，然后用L-BFGS进行训练\n",
    "#快速降低损失\n",
    "model.compile(\"adam\", lr=lr) # 选择优化器和学习率\n",
    "model.train(iterations=iterations) # 训练模型，迭代次数20000止\n",
    "#精细调整\n",
    "model.compile(\"L-BFGS\") # 选择优化器\n",
    "losshistory, train_state = model.train() # 训练模型"
   ]
  },
  {
   "cell_type": "code",
   "execution_count": 6,
   "id": "036da363-78c9-415f-957a-5d3e0ad5b420",
   "metadata": {
    "pycharm": {
     "name": "#%%\n"
    }
   },
   "outputs": [
    {
     "name": "stdout",
     "output_type": "stream",
     "text": [
      "Saving loss history to /root/PINN/loss.dat ...\n",
      "Saving training data to /root/PINN/train.dat ...\n",
      "Saving test data to /root/PINN/test.dat ...\n"
     ]
    },
    {
     "data": {
      "image/png": "[encoded data removed]",
      "text/plain": [
       "<Figure size 432x288 with 1 Axes>"
      ]
     },
     "metadata": {
      "needs_background": "light"
     },
     "output_type": "display_data"
    },
    {
     "name": "stdout",
     "output_type": "stream",
     "text": [
      "Mean Squared Error: 0.0008102946643942444\n",
      "Mean Squared Error Variance: 0.0006478946257958103\n"
     ]
    }
   ],
   "source": [
    "# Plot/print the results\n",
    "dde.saveplot(losshistory, train_state, issave=True, isplot=True) # 保存损失函数图像\n",
    "X, y_true = gen_testdata(data_path_name) # 生成测试数据\n",
    "y_pred = model.predict(X) # 预测\n",
    "\n",
    "# 计算均方误差\n",
    "mse = dde.metrics.mean_squared_error(y_true, y_pred)\n",
    "print(\"Mean Squared Error:\", mse)\n",
    "# 计算均方误差的方差\n",
    "mse_variance = np.var(y_true - y_pred)\n",
    "print(\"Mean Squared Error Variance:\", mse_variance)"
   ]
  },
  {
   "cell_type": "code",
   "execution_count": null,
   "id": "6118ae46-f7ba-4061-afe4-56bedf2f7c14",
   "metadata": {
    "pycharm": {
     "name": "#%%\n"
    }
   },
   "outputs": [],
   "source": []
  }
 ],
 "metadata": {
  "kernelspec": {
   "display_name": "Python 3 (ipykernel)",
   "language": "python",
   "name": "python3"
  },
  "language_info": {
   "codemirror_mode": {
    "name": "ipython",
    "version": 3
   },
   "file_extension": ".py",
   "mimetype": "text/x-python",
   "name": "python",
   "nbconvert_exporter": "python",
   "pygments_lexer": "ipython3",
   "version": "3.8.10"
  }
 },
 "nbformat": 4,
 "nbformat_minor": 5
}