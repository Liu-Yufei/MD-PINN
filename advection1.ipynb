{
 "cells": [
  {
   "cell_type": "markdown",
   "id": "c64e7355-9477-42bd-93a6-e45bfd3a19c2",
   "metadata": {
    "pycharm": {
     "name": "#%% md\n"
    }
   },
   "source": [
    "# 2D adv\n",
    "PDE方程形式：\n",
    "$$\\frac{\\partial u}{\\partial x}+\\frac{\\partial u}{\\partial y}+\\frac{\\partial u}{\\partial t}=0$$\n",
    "解的形式：\n",
    "$$x+y-2*t$$\n",
    "边界：\n",
    "$$x\\in[0,1]$$\n",
    "$$y\\in[0,1]$$\n",
    "$$t\\in[0,2]$$\n",
    "边界条件：无\n",
    "初始条件：\n",
    "$$u(x,y,0)=x+y$$"
   ]
  },
  {
   "cell_type": "code",
   "execution_count": 1,
   "id": "5db866fc-89bd-4f46-8201-f3d99f8c5322",
   "metadata": {
    "pycharm": {
     "name": "#%%\n"
    }
   },
   "outputs": [
    {
     "name": "stderr",
     "output_type": "stream",
     "text": [
      "Using backend: tensorflow.compat.v1\n",
      "Other supported backends: tensorflow, pytorch, jax, paddle.\n",
      "paddle supports more examples now and is recommended.\n"
     ]
    },
    {
     "name": "stdout",
     "output_type": "stream",
     "text": [
      "WARNING:tensorflow:From /root/miniconda3/lib/python3.8/site-packages/tensorflow/python/compat/v2_compat.py:107: disable_resource_variables (from tensorflow.python.ops.variable_scope) is deprecated and will be removed in a future version.\n",
      "Instructions for updating:\n",
      "non-resource variables are not supported in the long term\n",
      "Enable just-in-time compilation with XLA.\n",
      "\n",
      "WARNING:tensorflow:From /root/miniconda3/lib/python3.8/site-packages/deepxde/nn/initializers.py:118: The name tf.keras.initializers.he_normal is deprecated. Please use tf.compat.v1.keras.initializers.he_normal instead.\n",
      "\n"
     ]
    }
   ],
   "source": [
    "import deepxde as dde\n",
    "import numpy as np"
   ]
  },
  {
   "cell_type": "code",
   "execution_count": 2,
   "id": "9de28ef6-6151-4840-b7c4-ccb70bd7c615",
   "metadata": {
    "pycharm": {
     "name": "#%%\n"
    }
   },
   "outputs": [],
   "source": [
    "# Parameters:\n",
    "x_min, y_min, t_min = 0,0,0\n",
    "x_max, y_max, t_max = 1,1,2\n",
    "lr = 1e-4\n",
    "iterations = 20000\n",
    "data_path_name = \"./Advection/advection1_2d\"\n",
    "input_num = 3\n",
    "net_node = 40\n",
    "layers = 5\n",
    "num_domain=2540 # 用于描述域内的点的数量\n",
    "num_boundary=80 # 用于描述边界上的点的数量\n",
    "num_initial=160 # 用于描述初始条件上的点的数量 160\n",
    "num_test=2540 # 用于描述测试点的数量"
   ]
  },
  {
   "cell_type": "code",
   "execution_count": 3,
   "id": "edd1a9cd-4c23-4bd0-b334-58085ba0f3c1",
   "metadata": {
    "pycharm": {
     "name": "#%%\n"
    }
   },
   "outputs": [],
   "source": [
    "## PS：如果没有测试集的话可以用gen_testdata生成，训练不需要数据集\n",
    "def gen_testdata(path_name): # 2-D\n",
    "    \"\"\"Import and preprocess the dataset with the exact solution.\"\"\"\n",
    "    data = np.load(path_name+\".npz\")\n",
    "    # Obtain the values for t, x, and the excat solution:\n",
    "    t, x, y, exact = data[\"t\"], data[\"x1\"],data[\"x2\"], data[\"usol\"]\n",
    "    # Process the data and flatten it out (like labels and features):\n",
    "    xx, yy, tt = np.meshgrid(x, y, t) # meshgrid：生成网格点坐标矩阵\n",
    "    X = np.vstack((np.ravel(xx), np.ravel(yy), np.ravel(tt))).T # ravel：将多维数组降为一维\n",
    "    y = exact.flatten()[:, None]\n",
    "    return X, y\n",
    "\n",
    "def pde(x, y):\n",
    "    \"\"\"\n",
    "        Expresses the PDE residual of the heat equation.\n",
    "        在这里修改pde的内容, 从而获得解。让等式右侧为0\n",
    "    \"\"\"\n",
    "    dy_t = dde.grad.jacobian(y, x, i=0, j=2) # y的0列对x的第2列进行求导\n",
    "    dy_x = dde.grad.jacobian(y, x, i=0, j=0) # y的0列对x的第2列进行求导\n",
    "    dy_y = dde.grad.jacobian(y, x, i=0, j=1) # y的0列对x的第2列进行求导\n",
    "\n",
    "    return dy_x+dy_y+dy_t\n",
    "\n",
    "# Initial and boundary conditions:\n",
    "def initial_condition(x):\n",
    "     return x[:,0:1] + x[:,1:2]"
   ]
  },
  {
   "cell_type": "code",
   "execution_count": 4,
   "id": "d269ce94-295f-4341-a2dc-56947047b2ef",
   "metadata": {
    "pycharm": {
     "name": "#%%\n"
    }
   },
   "outputs": [
    {
     "name": "stdout",
     "output_type": "stream",
     "text": [
      "Warning: 2540 points required, but 2556 points sampled.\n"
     ]
    }
   ],
   "source": [
    "# geom = dde.geometry.Interval(0, Lx) \n",
    "geom = dde.geometry.Rectangle([x_min, y_min], [x_max, y_max])\n",
    "## 定义时间域. 和gen_exact_solution(char)中的t_min, t_max相同，如果和时间无关，可以注释掉\n",
    "timedomain = dde.geometry.TimeDomain(t_min, t_max)\n",
    "## GeometryXTime: 用于描述空间和时间的几何形状，如果和时间无关，则使用Geometry\n",
    "geomtime = dde.geometry.GeometryXTime(geom, timedomain)\n",
    "\n",
    "ic = dde.icbc.IC(\n",
    "    # IC: 用于描述初始条件\n",
    "    geomtime,\n",
    "    initial_condition,  # 初始条件的值为sin(n*pi*x/L)\n",
    "    lambda _, on_initial: on_initial,  # on_initial: 初始条件的位置为初始位置\n",
    ")\n",
    "\n",
    "data = dde.data.TimePDE(\n",
    "    geomtime, # 用于描述空间和时间的几何形状\n",
    "    pde, # 用于描述PDE的函数\n",
    "    [ic], # 用于描述边界和初始条件的列表\n",
    "    num_domain=num_domain, # 用于描述域内的点的数量\n",
    "    num_boundary=num_boundary, # 用于描述边界上的点的数量\n",
    "    num_initial=num_initial, # 用于描述初始条件上的点的数量 160\n",
    "    num_test=num_test, # 用于描述测试点的数量\n",
    ")\n",
    "# 定义网络，修改第1和最后一个参数，以及选择tanh或sigmoid作为激活函数\n",
    "net = dde.nn.FNN([input_num] + [net_node] * layers + [1], \"tanh\", \"Glorot normal\")# 变量，神经元，隐藏层，输出，【需要修改】\n",
    "    # Glorot normal: 一种初始化方法\n",
    "model = dde.Model(data, net)"
   ]
  },
  {
   "cell_type": "code",
   "execution_count": 5,
   "id": "e7881469-4949-4503-877b-ed14637674c6",
   "metadata": {
    "pycharm": {
     "name": "#%%\n"
    }
   },
   "outputs": [
    {
     "name": "stdout",
     "output_type": "stream",
     "text": [
      "Compiling model...\n",
      "Building feed-forward neural network...\n",
      "'build' took 0.088900 s\n",
      "\n"
     ]
    },
    {
     "name": "stderr",
     "output_type": "stream",
     "text": [
      "/root/miniconda3/lib/python3.8/site-packages/deepxde/nn/tensorflow_compat_v1/fnn.py:116: UserWarning: `tf.layers.dense` is deprecated and will be removed in a future version. Please use `tf.keras.layers.Dense` instead.\n",
      "  return tf.layers.dense(\n",
      "2023-08-15 14:22:30.926398: I tensorflow/core/platform/cpu_feature_guard.cc:193] This TensorFlow binary is optimized with oneAPI Deep Neural Network Library (oneDNN) to use the following CPU instructions in performance-critical operations:  AVX2 AVX512F FMA\n",
      "To enable them in other operations, rebuild TensorFlow with the appropriate compiler flags.\n",
      "2023-08-15 14:22:31.870873: W tensorflow/core/common_runtime/gpu/gpu_bfc_allocator.cc:42] Overriding orig_value setting because the TF_FORCE_GPU_ALLOW_GROWTH environment variable is set. Original config value was 0.\n",
      "2023-08-15 14:22:31.871404: I tensorflow/core/common_runtime/gpu/gpu_device.cc:1532] Created device /job:localhost/replica:0/task:0/device:GPU:0 with 30987 MB memory:  -> device: 0, name: Tesla V100-PCIE-32GB, pci bus id: 0000:67:02.0, compute capability: 7.0\n"
     ]
    },
    {
     "name": "stdout",
     "output_type": "stream",
     "text": [
      "'compile' took 1.423366 s\n",
      "\n",
      "Training model...\n",
      "\n"
     ]
    },
    {
     "name": "stderr",
     "output_type": "stream",
     "text": [
      "2023-08-15 14:22:32.269992: I tensorflow/compiler/mlir/mlir_graph_optimization_pass.cc:354] MLIR V1 optimization pass is not enabled\n",
      "2023-08-15 14:22:32.368218: I tensorflow/compiler/xla/service/service.cc:170] XLA service 0x7f878000b6d0 initialized for platform CUDA (this does not guarantee that XLA will be used). Devices:\n",
      "2023-08-15 14:22:32.368338: I tensorflow/compiler/xla/service/service.cc:178]   StreamExecutor device (0): Tesla V100-PCIE-32GB, Compute Capability 7.0\n",
      "2023-08-15 14:22:32.377217: I tensorflow/compiler/mlir/tensorflow/utils/dump_mlir_util.cc:263] disabling MLIR crash reproducer, set env var `MLIR_CRASH_REPRODUCER_DIRECTORY` to enable.\n",
      "2023-08-15 14:22:33.503381: I tensorflow/compiler/jit/xla_compilation_cache.cc:478] Compiled cluster using XLA!  This line is logged at most once for the lifetime of the process.\n"
     ]
    },
    {
     "name": "stdout",
     "output_type": "stream",
     "text": [
      "Step      Train loss              Test loss               Test metric\n",
      "0         [3.48e-01, 2.18e+00]    [3.48e-01, 2.18e+00]    []  \n",
      "1000      [1.51e-03, 1.03e-03]    [1.18e-03, 1.03e-03]    []  \n",
      "2000      [6.19e-04, 6.35e-04]    [4.42e-04, 6.35e-04]    []  \n",
      "3000      [2.86e-04, 4.11e-04]    [1.83e-04, 4.11e-04]    []  \n",
      "4000      [1.26e-04, 2.71e-04]    [7.26e-05, 2.71e-04]    []  \n",
      "5000      [6.13e-05, 1.76e-04]    [3.03e-05, 1.76e-04]    []  \n",
      "6000      [3.74e-05, 1.10e-04]    [1.73e-05, 1.10e-04]    []  \n",
      "7000      [2.44e-05, 6.26e-05]    [1.01e-05, 6.26e-05]    []  \n",
      "8000      [1.48e-05, 3.19e-05]    [7.68e-06, 3.19e-05]    []  \n",
      "9000      [1.03e-05, 1.57e-05]    [5.93e-06, 1.57e-05]    []  \n",
      "10000     [7.43e-06, 8.69e-06]    [4.56e-06, 8.69e-06]    []  \n",
      "11000     [5.29e-06, 5.79e-06]    [3.30e-06, 5.79e-06]    []  \n",
      "12000     [4.00e-06, 4.54e-06]    [2.80e-06, 4.54e-06]    []  \n",
      "13000     [2.80e-06, 3.55e-06]    [1.70e-06, 3.55e-06]    []  \n",
      "14000     [2.11e-06, 3.02e-06]    [1.26e-06, 3.02e-06]    []  \n",
      "15000     [1.72e-06, 2.72e-06]    [9.44e-07, 2.72e-06]    []  \n",
      "16000     [1.33e-06, 2.38e-06]    [7.68e-07, 2.38e-06]    []  \n",
      "17000     [1.82e-06, 2.84e-06]    [1.52e-06, 2.84e-06]    []  \n",
      "18000     [1.10e-06, 2.16e-06]    [7.64e-07, 2.16e-06]    []  \n",
      "19000     [9.34e-06, 1.01e-05]    [9.02e-06, 1.01e-05]    []  \n",
      "20000     [7.51e-07, 1.80e-06]    [4.20e-07, 1.80e-06]    []  \n",
      "\n",
      "Best model at step 20000:\n",
      "  train loss: 2.55e-06\n",
      "  test loss: 2.22e-06\n",
      "  test metric: []\n",
      "\n",
      "'train' took 32.562986 s\n",
      "\n",
      "Compiling model...\n",
      "'compile' took 0.242220 s\n",
      "\n",
      "Training model...\n",
      "\n"
     ]
    },
    {
     "name": "stderr",
     "output_type": "stream",
     "text": [
      "2023-08-15 14:23:05.157328: W tensorflow/compiler/jit/mark_for_compilation_pass.cc:1750] (One-time warning): Not using XLA:CPU for cluster.\n",
      "\n",
      "If you want XLA:CPU, do one of the following:\n",
      "\n",
      " - set the TF_XLA_FLAGS to include \"--tf_xla_cpu_global_jit\", or\n",
      " - set cpu_global_jit to true on this session's OptimizerOptions, or\n",
      " - use experimental_jit_scope, or\n",
      " - use tf.function(jit_compile=True).\n",
      "\n",
      "To confirm that XLA is active, pass --vmodule=xla_compilation_cache=1 (as a\n",
      "proper command-line flag, not via TF_XLA_FLAGS).\n"
     ]
    },
    {
     "name": "stdout",
     "output_type": "stream",
     "text": [
      "Step      Train loss              Test loss               Test metric\n",
      "20000     [7.51e-07, 1.80e-06]    [4.20e-07, 1.80e-06]    []  \n",
      "INFO:tensorflow:Optimization terminated with:\n",
      "  Message: CONVERGENCE: REL_REDUCTION_OF_F_<=_FACTR*EPSMCH\n",
      "  Objective function value: 0.000000\n",
      "  Number of iterations: 718\n",
      "  Number of functions evaluations: 843\n",
      "20843     [5.26e-08, 7.67e-09]    [2.75e-08, 7.67e-09]    []  \n",
      "\n",
      "Best model at step 20843:\n",
      "  train loss: 6.03e-08\n",
      "  test loss: 3.52e-08\n",
      "  test metric: []\n",
      "\n",
      "'train' took 8.958999 s\n",
      "\n"
     ]
    }
   ],
   "source": [
    "# 训练模型：先利用Adam进行训练，然后用L-BFGS进行训练\n",
    "## 快速降低损失\n",
    "model.compile(\"adam\", lr=lr) # 选择优化器和学习率\n",
    "model.train(iterations=iterations) # 训练模型，迭代次数\n",
    "## 精细调整\n",
    "model.compile(\"L-BFGS\") # 选择优化器\n",
    "losshistory, train_state = model.train() # 训练模型"
   ]
  },
  {
   "cell_type": "code",
   "execution_count": 6,
   "id": "a3c7eba5-5260-4d9e-b62d-4415cc8ca50c",
   "metadata": {
    "pycharm": {
     "name": "#%%\n"
    }
   },
   "outputs": [
    {
     "name": "stdout",
     "output_type": "stream",
     "text": [
      "Saving loss history to /root/PINN/loss.dat ...\n",
      "Saving training data to /root/PINN/train.dat ...\n",
      "Saving test data to /root/PINN/test.dat ...\n"
     ]
    },
    {
     "data": {
      "image/png": "[encoded data removed]",
      "text/plain": [
       "<Figure size 432x288 with 1 Axes>"
      ]
     },
     "metadata": {
      "needs_background": "light"
     },
     "output_type": "display_data"
    },
    {
     "name": "stdout",
     "output_type": "stream",
     "text": [
      "Mean Squared Error: 0.007624954553727929\n",
      "Mean Squared Error Variance: [0.00035704]\n"
     ]
    }
   ],
   "source": [
    "dde.saveplot(losshistory, train_state, issave=True, isplot=True) # 保存损失函数图像\n",
    "X, y_true = gen_testdata(data_path_name) # 生成测试数据\n",
    "y_pred = model.predict(X) # 预测\n",
    "\n",
    "# 计算均方误差\n",
    "mse = dde.metrics.mean_squared_error(y_true, y_pred)\n",
    "print(\"Mean Squared Error:\", mse)\n",
    "# 计算均方误差的方差\n",
    "individual_mses = [(true_val - pred_val) ** 2 for true_val, pred_val in zip(y_true, y_pred)]\n",
    "mse_variance = sum([(mse - individual_mse) ** 2 for individual_mse in individual_mses]) / len(individual_mses)\n",
    "print(\"Mean Squared Error Variance:\", mse_variance)"
   ]
  }
 ],
 "metadata": {
  "kernelspec": {
   "display_name": "Python 3 (ipykernel)",
   "language": "python",
   "name": "python3"
  },
  "language_info": {
   "codemirror_mode": {
    "name": "ipython",
    "version": 3
   },
   "file_extension": ".py",
   "mimetype": "text/x-python",
   "name": "python",
   "nbconvert_exporter": "python",
   "pygments_lexer": "ipython3",
   "version": "3.8.10"
  }
 },
 "nbformat": 4,
 "nbformat_minor": 5
}