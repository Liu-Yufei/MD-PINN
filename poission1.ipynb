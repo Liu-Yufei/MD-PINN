{
 "cells": [
  {
   "cell_type": "markdown",
   "id": "c64e7355-9477-42bd-93a6-e45bfd3a19c2",
   "metadata": {
    "pycharm": {
     "name": "#%% md\n"
    }
   },
   "source": [
    "# 2D Poission sin：\n",
    "$$\\frac{\\partial^2u}{\\partial x^2}+\\frac{\\partial^2u}{\\partial y^2}+2\\pi^2sin(\\pi x)sin(\\pi y)=0$$\n",
    "解的形式：\n",
    "$$sin(\\pi x)sin(\\pi y)$$\n",
    "边界：\n",
    "$$x\\in[0,1]$$\n",
    "$$y\\in[0,1]$$\n",
    "边界条件：\n",
    "$$u(x,y)=0$$\n",
    "初始条件：无"
   ]
  },
  {
   "cell_type": "code",
   "execution_count": 1,
   "id": "5db866fc-89bd-4f46-8201-f3d99f8c5322",
   "metadata": {
    "pycharm": {
     "name": "#%%\n"
    }
   },
   "outputs": [
    {
     "name": "stderr",
     "output_type": "stream",
     "text": [
      "Using backend: tensorflow.compat.v1\n",
      "Other supported backends: tensorflow, pytorch, jax, paddle.\n",
      "paddle supports more examples now and is recommended.\n"
     ]
    },
    {
     "name": "stdout",
     "output_type": "stream",
     "text": [
      "WARNING:tensorflow:From /root/miniconda3/lib/python3.8/site-packages/tensorflow/python/compat/v2_compat.py:107: disable_resource_variables (from tensorflow.python.ops.variable_scope) is deprecated and will be removed in a future version.\n",
      "Instructions for updating:\n",
      "non-resource variables are not supported in the long term\n",
      "Enable just-in-time compilation with XLA.\n",
      "\n",
      "WARNING:tensorflow:From /root/miniconda3/lib/python3.8/site-packages/deepxde/nn/initializers.py:118: The name tf.keras.initializers.he_normal is deprecated. Please use tf.compat.v1.keras.initializers.he_normal instead.\n",
      "\n"
     ]
    }
   ],
   "source": [
    "import deepxde as dde\n",
    "import numpy as np\n",
    "import tensorflow as tf"
   ]
  },
  {
   "cell_type": "code",
   "execution_count": 2,
   "id": "9de28ef6-6151-4840-b7c4-ccb70bd7c615",
   "metadata": {
    "pycharm": {
     "name": "#%%\n"
    }
   },
   "outputs": [],
   "source": [
    "# Parameters:\n",
    "x_min, y_min= 0,0\n",
    "x_max, y_max= 1,1\n",
    "lr = 1e-4\n",
    "iterations = 20000\n",
    "data_path_name = \"./Poission/poission1_2d\"\n",
    "input_num = 2\n",
    "net_node = 50\n",
    "layers = 3\n",
    "num_domain=512 # 用于描述域内的点的数量\n",
    "num_test=256 # 用于描述测试点的数量"
   ]
  },
  {
   "cell_type": "code",
   "execution_count": 3,
   "id": "edd1a9cd-4c23-4bd0-b334-58085ba0f3c1",
   "metadata": {
    "pycharm": {
     "name": "#%%\n"
    }
   },
   "outputs": [],
   "source": [
    "def gen_testdata(path_name): # 2-D\n",
    "    \"\"\"Import and preprocess the dataset with the exact solution.\"\"\"\n",
    "    data = np.load(path_name+\".npz\")\n",
    "    # Obtain the values for t, x, and the excat solution:\n",
    "    x, y, exact = data[\"x1\"],data[\"x2\"], data[\"usol\"]\n",
    "    # Process the data and flatten it out (like labels and features):\n",
    "    xx, yy = np.meshgrid(x, y) # meshgrid：生成网格点坐标矩阵\n",
    "    X = np.vstack((np.ravel(xx), np.ravel(yy))).T # ravel：将多维数组降为一维\n",
    "    y = exact.flatten()[:, None]\n",
    "    return X, y\n",
    "\n",
    "def pde(x, y):\n",
    "    \"\"\"\n",
    "        Expresses the PDE residual of the heat equation.\n",
    "    \"\"\"\n",
    "    dy_xx = dde.grad.hessian(y, x, i=0, j=0)\n",
    "    dy_yy = dde.grad.hessian(y, x, i=1, j=1)\n",
    "    return -dy_xx -dy_yy - np.pi ** 2 * tf.sin(np.pi * x[:,0:1])*tf.sin(np.pi * x[:,1:2])\n",
    "\n",
    "# Initial and boundary conditions:\n",
    "def boundary_condition(x):\n",
    "    return np.sin(np.pi * x[:,0:1])*np.sin(np.pi * x[:,1:2])"
   ]
  },
  {
   "cell_type": "code",
   "execution_count": 4,
   "id": "d269ce94-295f-4341-a2dc-56947047b2ef",
   "metadata": {
    "pycharm": {
     "name": "#%%\n"
    }
   },
   "outputs": [],
   "source": [
    "geom = dde.geometry.Rectangle([x_min, y_min], [x_max, y_max])\n",
    "\n",
    "bc = dde.icbc.DirichletBC(geom, boundary_condition, lambda _,on_boundary:on_boundary) # 直接使用func和令边界值为0相同\n",
    "\n",
    "data = dde.data.PDE(\n",
    "    # geomtime, # 用于描述空间和时间的几何形状\n",
    "    geom, # 几何区域\n",
    "    pde, # 用于描述PDE的函数\n",
    "    [bc], # 用于描述边界和初始条件的列表\n",
    "    num_domain=num_domain, # 用于描述域内的点的数量\n",
    "    num_boundary=num_boundary, # 用于描述边界上的点的数量\n",
    "    num_test=num_test, # 用于描述测试点的数量\n",
    ")\n",
    "# 定义网络，修改第1和最后一个参数，以及选择tanh或sigmoid作为激活函数\n",
    "net = dde.nn.FNN([input_num] + [net_node] * layers + [1], \"tanh\", \"Glorot normal\")# 变量，神经元，隐藏层，输出，\n",
    "    # Glorot normal: 一种初始化方法\n",
    "model = dde.Model(data, net)"
   ]
  },
  {
   "cell_type": "code",
   "execution_count": 5,
   "id": "e7881469-4949-4503-877b-ed14637674c6",
   "metadata": {
    "pycharm": {
     "name": "#%%\n"
    }
   },
   "outputs": [
    {
     "name": "stdout",
     "output_type": "stream",
     "text": [
      "Compiling model...\n",
      "Building feed-forward neural network...\n",
      "'build' took 0.091059 s\n",
      "\n"
     ]
    },
    {
     "name": "stderr",
     "output_type": "stream",
     "text": [
      "/root/miniconda3/lib/python3.8/site-packages/deepxde/nn/tensorflow_compat_v1/fnn.py:116: UserWarning: `tf.layers.dense` is deprecated and will be removed in a future version. Please use `tf.keras.layers.Dense` instead.\n",
      "  return tf.layers.dense(\n",
      "2023-08-15 15:01:57.571146: I tensorflow/core/platform/cpu_feature_guard.cc:193] This TensorFlow binary is optimized with oneAPI Deep Neural Network Library (oneDNN) to use the following CPU instructions in performance-critical operations:  AVX2 AVX512F FMA\n",
      "To enable them in other operations, rebuild TensorFlow with the appropriate compiler flags.\n",
      "2023-08-15 15:01:58.625483: W tensorflow/core/common_runtime/gpu/gpu_bfc_allocator.cc:42] Overriding orig_value setting because the TF_FORCE_GPU_ALLOW_GROWTH environment variable is set. Original config value was 0.\n",
      "2023-08-15 15:01:58.625591: I tensorflow/core/common_runtime/gpu/gpu_device.cc:1532] Created device /job:localhost/replica:0/task:0/device:GPU:0 with 30987 MB memory:  -> device: 0, name: Tesla V100-PCIE-32GB, pci bus id: 0000:67:02.0, compute capability: 7.0\n"
     ]
    },
    {
     "name": "stdout",
     "output_type": "stream",
     "text": [
      "'compile' took 1.831987 s\n",
      "\n",
      "Training model...\n",
      "\n"
     ]
    },
    {
     "name": "stderr",
     "output_type": "stream",
     "text": [
      "2023-08-15 15:01:59.323237: I tensorflow/compiler/mlir/mlir_graph_optimization_pass.cc:354] MLIR V1 optimization pass is not enabled\n",
      "2023-08-15 15:01:59.430285: I tensorflow/compiler/xla/service/service.cc:170] XLA service 0x7f7fd8008f00 initialized for platform CUDA (this does not guarantee that XLA will be used). Devices:\n",
      "2023-08-15 15:01:59.430421: I tensorflow/compiler/xla/service/service.cc:178]   StreamExecutor device (0): Tesla V100-PCIE-32GB, Compute Capability 7.0\n",
      "2023-08-15 15:01:59.442771: I tensorflow/compiler/mlir/tensorflow/utils/dump_mlir_util.cc:263] disabling MLIR crash reproducer, set env var `MLIR_CRASH_REPRODUCER_DIRECTORY` to enable.\n",
      "2023-08-15 15:02:00.921638: I tensorflow/compiler/jit/xla_compilation_cache.cc:478] Compiled cluster using XLA!  This line is logged at most once for the lifetime of the process.\n"
     ]
    },
    {
     "name": "stdout",
     "output_type": "stream",
     "text": [
      "Step      Train loss              Test loss               Test metric\n",
      "0         [2.35e+01, 2.74e-02]    [2.81e+01, 2.74e-02]    []  \n",
      "1000      [4.59e-01, 5.40e-02]    [3.21e-01, 5.40e-02]    []  \n",
      "2000      [1.41e-01, 1.03e-02]    [8.77e-02, 1.03e-02]    []  \n",
      "3000      [2.30e-02, 4.78e-03]    [1.37e-02, 4.78e-03]    []  \n",
      "4000      [6.50e-03, 2.09e-03]    [4.15e-03, 2.09e-03]    []  \n",
      "5000      [2.99e-03, 1.69e-03]    [2.11e-03, 1.69e-03]    []  \n",
      "6000      [1.72e-03, 1.26e-03]    [1.27e-03, 1.26e-03]    []  \n",
      "7000      [7.13e-04, 7.32e-04]    [5.39e-04, 7.32e-04]    []  \n",
      "8000      [4.00e-04, 4.43e-04]    [3.15e-04, 4.43e-04]    []  \n",
      "9000      [2.29e-04, 2.73e-04]    [1.79e-04, 2.73e-04]    []  \n",
      "10000     [1.30e-04, 1.58e-04]    [1.01e-04, 1.58e-04]    []  \n",
      "11000     [8.16e-05, 8.70e-05]    [6.50e-05, 8.70e-05]    []  \n",
      "12000     [6.12e-05, 4.84e-05]    [5.03e-05, 4.84e-05]    []  \n",
      "13000     [5.20e-05, 2.83e-05]    [4.48e-05, 2.83e-05]    []  \n",
      "14000     [4.60e-05, 1.70e-05]    [4.11e-05, 1.70e-05]    []  \n",
      "15000     [3.58e-05, 1.10e-05]    [3.13e-05, 1.10e-05]    []  \n",
      "16000     [3.36e-05, 7.49e-06]    [2.98e-05, 7.49e-06]    []  \n",
      "17000     [2.75e-05, 5.27e-06]    [2.46e-05, 5.27e-06]    []  \n",
      "18000     [2.50e-05, 3.90e-06]    [2.24e-05, 3.90e-06]    []  \n",
      "19000     [2.16e-05, 2.93e-06]    [1.94e-05, 2.93e-06]    []  \n",
      "20000     [3.54e-05, 2.30e-06]    [3.33e-05, 2.30e-06]    []  \n",
      "\n",
      "Best model at step 19000:\n",
      "  train loss: 2.45e-05\n",
      "  test loss: 2.23e-05\n",
      "  test metric: []\n",
      "\n",
      "'train' took 29.693075 s\n",
      "\n",
      "Compiling model...\n",
      "'compile' took 0.396756 s\n",
      "\n",
      "Training model...\n",
      "\n"
     ]
    },
    {
     "name": "stderr",
     "output_type": "stream",
     "text": [
      "2023-08-15 15:02:29.508720: W tensorflow/compiler/jit/mark_for_compilation_pass.cc:1750] (One-time warning): Not using XLA:CPU for cluster.\n",
      "\n",
      "If you want XLA:CPU, do one of the following:\n",
      "\n",
      " - set the TF_XLA_FLAGS to include \"--tf_xla_cpu_global_jit\", or\n",
      " - set cpu_global_jit to true on this session's OptimizerOptions, or\n",
      " - use experimental_jit_scope, or\n",
      " - use tf.function(jit_compile=True).\n",
      "\n",
      "To confirm that XLA is active, pass --vmodule=xla_compilation_cache=1 (as a\n",
      "proper command-line flag, not via TF_XLA_FLAGS).\n"
     ]
    },
    {
     "name": "stdout",
     "output_type": "stream",
     "text": [
      "Step      Train loss              Test loss               Test metric\n",
      "20000     [3.54e-05, 2.30e-06]    [3.33e-05, 2.30e-06]    []  \n",
      "INFO:tensorflow:Optimization terminated with:\n",
      "  Message: CONVERGENCE: REL_REDUCTION_OF_F_<=_FACTR*EPSMCH\n",
      "  Objective function value: 0.000003\n",
      "  Number of iterations: 355\n",
      "  Number of functions evaluations: 380\n",
      "20380     [2.48e-06, 2.86e-07]    [2.13e-06, 2.86e-07]    []  \n",
      "\n",
      "Best model at step 20380:\n",
      "  train loss: 2.77e-06\n",
      "  test loss: 2.42e-06\n",
      "  test metric: []\n",
      "\n",
      "'train' took 5.814097 s\n",
      "\n"
     ]
    }
   ],
   "source": [
    "# 训练模型：先利用Adam进行训练，然后用L-BFGS进行训练\n",
    "## 快速降低损失\n",
    "model.compile(\"adam\", lr=lr) # 选择优化器和学习率\n",
    "model.train(iterations=iterations) # 训练模型，迭代次数\n",
    "## 精细调整\n",
    "model.compile(\"L-BFGS\") # 选择优化器\n",
    "losshistory, train_state = model.train() # 训练模型"
   ]
  },
  {
   "cell_type": "code",
   "execution_count": 6,
   "id": "a3c7eba5-5260-4d9e-b62d-4415cc8ca50c",
   "metadata": {
    "pycharm": {
     "name": "#%%\n"
    }
   },
   "outputs": [
    {
     "name": "stdout",
     "output_type": "stream",
     "text": [
      "Saving loss history to /root/PINN/loss.dat ...\n",
      "Saving training data to /root/PINN/train.dat ...\n",
      "Saving test data to /root/PINN/test.dat ...\n"
     ]
    },
    {
     "data": {
      "image/png": "[encoded data removed]",
      "text/plain": [
       "<Figure size 432x288 with 1 Axes>"
      ]
     },
     "metadata": {
      "needs_background": "light"
     },
     "output_type": "display_data"
    },
    {
     "data": {
      "image/png": "[encoded data removed]",
      "text/plain": [
       "<Figure size 432x288 with 1 Axes>"
      ]
     },
     "metadata": {
      "needs_background": "light"
     },
     "output_type": "display_data"
    },
    {
     "name": "stdout",
     "output_type": "stream",
     "text": [
      "Mean Squared Error: 0.061259773125855614\n",
      "Mean Squared Error Variance: [0.00486242]\n"
     ]
    }
   ],
   "source": [
    "dde.saveplot(losshistory, train_state, issave=True, isplot=True) # 保存损失函数图像\n",
    "X, y_true = gen_testdata(data_path_name) # 生成测试数据\n",
    "y_pred = model.predict(X) # 预测\n",
    "\n",
    "# 计算均方误差\n",
    "mse = dde.metrics.mean_squared_error(y_true, y_pred)\n",
    "print(\"Mean Squared Error:\", mse)\n",
    "# 计算均方误差的方差\n",
    "individual_mses = [(true_val - pred_val) ** 2 for true_val, pred_val in zip(y_true, y_pred)]\n",
    "mse_variance = sum([(mse - individual_mse) ** 2 for individual_mse in individual_mses]) / len(individual_mses)\n",
    "print(\"Mean Squared Error Variance:\", mse_variance)"
   ]
  },
  {
   "cell_type": "code",
   "execution_count": null,
   "id": "0864cd60-f1bd-42e8-8adc-456363200918",
   "metadata": {
    "pycharm": {
     "name": "#%%\n"
    }
   },
   "outputs": [],
   "source": []
  }
 ],
 "metadata": {
  "kernelspec": {
   "display_name": "Python 3 (ipykernel)",
   "language": "python",
   "name": "python3"
  },
  "language_info": {
   "codemirror_mode": {
    "name": "ipython",
    "version": 3
   },
   "file_extension": ".py",
   "mimetype": "text/x-python",
   "name": "python",
   "nbconvert_exporter": "python",
   "pygments_lexer": "ipython3",
   "version": "3.8.10"
  }
 },
 "nbformat": 4,
 "nbformat_minor": 5
}